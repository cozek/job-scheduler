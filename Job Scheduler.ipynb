{
 "cells": [
  {
   "cell_type": "code",
   "execution_count": 59,
   "metadata": {
    "collapsed": true
   },
   "outputs": [],
   "source": [
    "\n",
    "from operator import itemgetter\n"
   ]
  },
  {
   "cell_type": "markdown",
   "metadata": {},
   "source": [
    "Below is the a fuction to print the job queues, and lists nicely.\n",
    "Basically, gets the right number of spaces to append after every key value of jobs dict."
   ]
  },
  {
   "cell_type": "code",
   "execution_count": 60,
   "metadata": {},
   "outputs": [],
   "source": [
    "\n",
    "#nice printer for job to print status nicely\n",
    "\n",
    "def nprint(jobs,string):\n",
    "    print(5*\"\\t\", string)\n",
    "    print('Job_id\\t' + 'Arrival Time\\t' + 'Execution_time\\t' + 'Start_time\\t' +'Finish_time\\t'\n",
    "     + 'Remaining_time\\t' + 'Completed' \n",
    "     )\n",
    "    x =' '\n",
    "    for i in jobs:\n",
    "        \n",
    "        jobid,x0 = i.get('id'), len(\"Job_id\\t\")-len(i.get('id'))\n",
    "        ar,x1 = i.get('Arrival Time'), len('Arrival Time\\t')-len(str(i.get('Arrival Time')))\n",
    "        ex,x2 = i.get('Execution time'), len('Execution_time\\t')-len(str(i.get('Execution time')))\n",
    "        st,x3 = i.get('Strt_Time'), len('Start_time\\t\\t  ')-len(str(i.get('Strt_Time')))\n",
    "        ft,x4 = i.get('Fin_Time'), len('Finish_time\\t\\t')-len(str(i.get('Fin_Time')))\n",
    "        re,x5 = i.get('Execution left'), len('Remaining_time\\t')-len(str(i.get('Execution left')))\n",
    "        ct,x6 = i.get('Completed'), len('Completed')-len(i.get('Completed'))\n",
    "        \n",
    "        print(jobid , x*x0 , ar ,x*x1 , ex , x*x2 , st , x*x3 , ft , x*x4 ,re , x*x5,ct , x*x6)\n",
    "    \n",
    "        \n",
    "    return\n"
   ]
  },
  {
   "cell_type": "markdown",
   "metadata": {},
   "source": [
    "Function to display the status at time intervals. Makes use of the above nprint to do its job"
   ]
  },
  {
   "cell_type": "code",
   "execution_count": 61,
   "metadata": {
    "collapsed": true
   },
   "outputs": [],
   "source": [
    "#display function to make life easier\n",
    "\n",
    "def display(time,done_jobs,job_queue,current,order):\n",
    "    print(5*\"\\t\" , \"Current Clock Time: \",time)\n",
    "            \n",
    "    nprint(done_jobs,\"Jobs Completed\")\n",
    "    print(\"\\n\")\n",
    "            \n",
    "\n",
    "    nprint(job_queue,\"Job Queue\")\n",
    "    print(\"\\n\")\n",
    "    nprint([current],\"Current Job\")\n",
    "    print(\"\\n\")\n",
    "    print(\"Order: \",order)\n",
    "    print(\"\\n\")\n",
    "            \n",
    "    print(5*\"\\t\",\"----------end-of-report--------------\\n\\n\")\n",
    "    return"
   ]
  },
  {
   "cell_type": "markdown",
   "metadata": {},
   "source": [
    "For taking user input. Probably hard coded at the moment to save time."
   ]
  },
  {
   "cell_type": "code",
   "execution_count": 62,
   "metadata": {},
   "outputs": [
    {
     "name": "stdout",
     "output_type": "stream",
     "text": [
      "Enter processor allotted time d: 5\n",
      "Enter the initial set of jobs at time = 0(seperate by commas): 18,4,7,9,6\n",
      "Any more jobs at later time [y/n]: y\n",
      "<Arrival_time, Execution_time> seperated by ; :18,20\n",
      "Enter the time instant for displaying the job scheduling result: 10\n"
     ]
    }
   ],
   "source": [
    "d = int(input(\"Enter processor allotted time d: \"))\n",
    "\n",
    "\n",
    "execTime = input(\"Enter the initial set of jobs at time = 0(seperate by commas): \")\n",
    "\n",
    "\n",
    "moreJobs = (input(\"Any more jobs at later time [y/n]: \"))\n",
    "\n",
    "\n",
    "if moreJobs=='y':\n",
    "    g =  input(\"<Arrival_time, Execution_time> seperated by ; :\")\n",
    "    \n",
    "\n",
    "display_time = int(input(\"Enter the time instant for displaying the job scheduling result: \"))\n",
    "\n",
    "\n",
    "# d = 5\n",
    "# execTime = '18,4,7,9,6'\n",
    "# g = '18,20'\n",
    "# display_time = 10\n"
   ]
  },
  {
   "cell_type": "markdown",
   "metadata": {},
   "source": [
    "The function below creates the jobs  in proper format in dictionary data structure"
   ]
  },
  {
   "cell_type": "code",
   "execution_count": 63,
   "metadata": {
    "collapsed": true
   },
   "outputs": [],
   "source": [
    "#creating the jobs based on their execution time as given in input\n",
    "\n",
    "execTime = execTime.split(',')\n",
    "execTime = [int(i) for i in execTime]\n",
    "ArrivalTime = 0\n",
    "# random.shuffle(execTime) #shuffle the exec times randomly , so jobs get in queue in random order\n",
    "jobs = []\n",
    "queue = []\n",
    "k = 1\n",
    "for i in execTime:\n",
    "    dict_ = {}\n",
    "    string = 'Job' + str(k)\n",
    "    jobs.append(string)\n",
    "    dict_ ={'id':string,'Arrival Time': 0,'Strt_Time': 'n/a','Fin_Time': 'n/a', 'Execution time':i, 'Execution left':i , 'Completed': 'no'}\n",
    "    queue.append(dict_)\n",
    "    k += 1\n",
    "    \n"
   ]
  },
  {
   "cell_type": "code",
   "execution_count": 64,
   "metadata": {},
   "outputs": [
    {
     "name": "stdout",
     "output_type": "stream",
     "text": [
      "{'id': 'Job6', 'Arrival Time': 18, 'Strt_Time': 'n/a', 'Fin_Time': 'n/a', 'Execution time': 20, 'Execution left': 20, 'Completed': 'no'}\n"
     ]
    }
   ],
   "source": [
    "#creating the extra jobs that arrive later\n",
    "\n",
    "a = [ g.split(';') ][0]\n",
    "\n",
    "more_work = []\n",
    "for i in a.copy():\n",
    "    string = 'Job' + str(k)\n",
    "    temp = i.split(',')\n",
    "    dict_ ={'id':string,'Arrival Time': int(temp[0]),'Strt_Time': 'n/a','Fin_Time': 'n/a','Execution time':int(temp[1]), 'Execution left':int(temp[1]) , 'Completed': 'no'}\n",
    "    more_work.append(dict_)\n",
    "    k += 1\n",
    "    \n",
    "more_work = sorted(more_work, key=itemgetter('Arrival Time'))  #sorting this list by arrival time\n",
    "for i in more_work:\n",
    "    print(i)"
   ]
  },
  {
   "cell_type": "code",
   "execution_count": 65,
   "metadata": {},
   "outputs": [
    {
     "name": "stdout",
     "output_type": "stream",
     "text": [
      "{'id': 'Job1', 'Arrival Time': 0, 'Strt_Time': 'n/a', 'Fin_Time': 'n/a', 'Execution time': 18, 'Execution left': 18, 'Completed': 'no'}\n",
      "{'id': 'Job2', 'Arrival Time': 0, 'Strt_Time': 'n/a', 'Fin_Time': 'n/a', 'Execution time': 4, 'Execution left': 4, 'Completed': 'no'}\n",
      "{'id': 'Job3', 'Arrival Time': 0, 'Strt_Time': 'n/a', 'Fin_Time': 'n/a', 'Execution time': 7, 'Execution left': 7, 'Completed': 'no'}\n",
      "{'id': 'Job4', 'Arrival Time': 0, 'Strt_Time': 'n/a', 'Fin_Time': 'n/a', 'Execution time': 9, 'Execution left': 9, 'Completed': 'no'}\n",
      "{'id': 'Job5', 'Arrival Time': 0, 'Strt_Time': 'n/a', 'Fin_Time': 'n/a', 'Execution time': 6, 'Execution left': 6, 'Completed': 'no'}\n"
     ]
    }
   ],
   "source": [
    "for i in queue:\n",
    "    print(i)"
   ]
  },
  {
   "cell_type": "code",
   "execution_count": 66,
   "metadata": {},
   "outputs": [
    {
     "name": "stdout",
     "output_type": "stream",
     "text": [
      "{'id': 'Job6', 'Arrival Time': 18, 'Strt_Time': 'n/a', 'Fin_Time': 'n/a', 'Execution time': 20, 'Execution left': 20, 'Completed': 'no'}\n"
     ]
    }
   ],
   "source": [
    "for i in more_work:\n",
    "    print(i)"
   ]
  },
  {
   "cell_type": "code",
   "execution_count": null,
   "metadata": {},
   "outputs": [],
   "source": []
  },
  {
   "cell_type": "code",
   "execution_count": 67,
   "metadata": {
    "scrolled": true
   },
   "outputs": [
    {
     "name": "stdout",
     "output_type": "stream",
     "text": [
      "{'id': 'Job1', 'Arrival Time': 0, 'Strt_Time': 'n/a', 'Fin_Time': 'n/a', 'Execution time': 18, 'Execution left': 18, 'Completed': 'no'}\n",
      "{'id': 'Job2', 'Arrival Time': 0, 'Strt_Time': 'n/a', 'Fin_Time': 'n/a', 'Execution time': 4, 'Execution left': 4, 'Completed': 'no'}\n",
      "{'id': 'Job3', 'Arrival Time': 0, 'Strt_Time': 'n/a', 'Fin_Time': 'n/a', 'Execution time': 7, 'Execution left': 7, 'Completed': 'no'}\n",
      "{'id': 'Job4', 'Arrival Time': 0, 'Strt_Time': 'n/a', 'Fin_Time': 'n/a', 'Execution time': 9, 'Execution left': 9, 'Completed': 'no'}\n",
      "{'id': 'Job5', 'Arrival Time': 0, 'Strt_Time': 'n/a', 'Fin_Time': 'n/a', 'Execution time': 6, 'Execution left': 6, 'Completed': 'no'}\n"
     ]
    }
   ],
   "source": [
    "\n",
    "job_queue = queue.copy()\n",
    "\n",
    "for i in job_queue:\n",
    "    print(i)\n",
    "\n",
    "\n"
   ]
  },
  {
   "cell_type": "code",
   "execution_count": 68,
   "metadata": {},
   "outputs": [
    {
     "data": {
      "text/plain": [
       "{'Arrival Time': 0,\n",
       " 'Completed': 'no',\n",
       " 'Execution left': 18,\n",
       " 'Execution time': 18,\n",
       " 'Fin_Time': 'n/a',\n",
       " 'Strt_Time': 'n/a',\n",
       " 'id': 'Job1'}"
      ]
     },
     "execution_count": 68,
     "metadata": {},
     "output_type": "execute_result"
    }
   ],
   "source": [
    "job_queue.pop(0) #popping front example"
   ]
  },
  {
   "cell_type": "code",
   "execution_count": 69,
   "metadata": {},
   "outputs": [
    {
     "name": "stdout",
     "output_type": "stream",
     "text": [
      "{'id': 'Job2', 'Arrival Time': 0, 'Strt_Time': 'n/a', 'Fin_Time': 'n/a', 'Execution time': 4, 'Execution left': 4, 'Completed': 'no'}\n",
      "{'id': 'Job3', 'Arrival Time': 0, 'Strt_Time': 'n/a', 'Fin_Time': 'n/a', 'Execution time': 7, 'Execution left': 7, 'Completed': 'no'}\n",
      "{'id': 'Job4', 'Arrival Time': 0, 'Strt_Time': 'n/a', 'Fin_Time': 'n/a', 'Execution time': 9, 'Execution left': 9, 'Completed': 'no'}\n",
      "{'id': 'Job5', 'Arrival Time': 0, 'Strt_Time': 'n/a', 'Fin_Time': 'n/a', 'Execution time': 6, 'Execution left': 6, 'Completed': 'no'}\n"
     ]
    }
   ],
   "source": [
    "for i in job_queue:\n",
    "    print(i)\n"
   ]
  },
  {
   "cell_type": "markdown",
   "metadata": {},
   "source": [
    "## Job Scheduler\n",
    "<br>\n",
    "First we save the queue in variables job_queue and the extra jobs that arrive later at <b>job_queue_extra</b> <br>\n",
    "Note that the <b>job_queue_extra</b> is are sorted based on their arrival time.<br>\n",
    "\n",
    "We parse the 1st job on the <b>job_queue_extra</b> and note its arrival time in <b>time_j</b><br>\n",
    "We then create a list <b>done_jobs</b> where we will save the jobs that have finished execution<br>\n",
    "Variable \"time\" keeps track of the time spend.<br>\n",
    "List named \"order\" save the order in which the jobs get the cpu for execution<br>\n",
    "We then run our scheduling algorithm<br>\n",
    "\n"
   ]
  },
  {
   "cell_type": "code",
   "execution_count": 70,
   "metadata": {
    "scrolled": false
   },
   "outputs": [
    {
     "name": "stdout",
     "output_type": "stream",
     "text": [
      "\t\t\t\t\t Current Clock Time:  10\n",
      "\t\t\t\t\t Jobs Completed\n",
      "Job_id\tArrival Time\tExecution_time\tStart_time\tFinish_time\tRemaining_time\tCompleted\n",
      "Job2     0              4                5               9              0                yes       \n",
      "\n",
      "\n",
      "\t\t\t\t\t Job Queue\n",
      "Job_id\tArrival Time\tExecution_time\tStart_time\tFinish_time\tRemaining_time\tCompleted\n",
      "Job4     0              9                n/a             n/a            9                no        \n",
      "Job5     0              6                n/a             n/a            6                no        \n",
      "Job1     0              18               0               n/a            13               no        \n",
      "\n",
      "\n",
      "\t\t\t\t\t Current Job\n",
      "Job_id\tArrival Time\tExecution_time\tStart_time\tFinish_time\tRemaining_time\tCompleted\n",
      "Job3     0              7                9               n/a            6                no        \n",
      "\n",
      "\n",
      "Order:  ['Job1', 'Job2', 'Job3']\n",
      "\n",
      "\n",
      "\t\t\t\t\t ----------end-of-report--------------\n",
      "\n",
      "\n",
      "\t\t\t\t\t Current Clock Time:  20\n",
      "\t\t\t\t\t Jobs Completed\n",
      "Job_id\tArrival Time\tExecution_time\tStart_time\tFinish_time\tRemaining_time\tCompleted\n",
      "Job2     0              4                5               9              0                yes       \n",
      "\n",
      "\n",
      "\t\t\t\t\t Job Queue\n",
      "Job_id\tArrival Time\tExecution_time\tStart_time\tFinish_time\tRemaining_time\tCompleted\n",
      "Job1     0              18               0               n/a            13               no        \n",
      "Job3     0              7                9               n/a            2                no        \n",
      "Job6     18             20               n/a             n/a            20               no        \n",
      "Job4     0              9                14              n/a            4                no        \n",
      "\n",
      "\n",
      "\t\t\t\t\t Current Job\n",
      "Job_id\tArrival Time\tExecution_time\tStart_time\tFinish_time\tRemaining_time\tCompleted\n",
      "Job5     0              6                19              n/a            5                no        \n",
      "\n",
      "\n",
      "Order:  ['Job1', 'Job2', 'Job3', 'Job4', 'Job5']\n",
      "\n",
      "\n",
      "\t\t\t\t\t ----------end-of-report--------------\n",
      "\n",
      "\n",
      "\t\t\t\t\t Current Clock Time:  30\n",
      "\t\t\t\t\t Jobs Completed\n",
      "Job_id\tArrival Time\tExecution_time\tStart_time\tFinish_time\tRemaining_time\tCompleted\n",
      "Job2     0              4                5               9              0                yes       \n",
      "\n",
      "\n",
      "\t\t\t\t\t Job Queue\n",
      "Job_id\tArrival Time\tExecution_time\tStart_time\tFinish_time\tRemaining_time\tCompleted\n",
      "Job6     18             20               n/a             n/a            20               no        \n",
      "Job4     0              9                14              n/a            4                no        \n",
      "Job5     0              6                19              n/a            1                no        \n",
      "Job1     0              18               0               n/a            8                no        \n",
      "\n",
      "\n",
      "\t\t\t\t\t Current Job\n",
      "Job_id\tArrival Time\tExecution_time\tStart_time\tFinish_time\tRemaining_time\tCompleted\n",
      "Job3     0              7                9               n/a            1                no        \n",
      "\n",
      "\n",
      "Order:  ['Job1', 'Job2', 'Job3', 'Job4', 'Job5', 'Job1', 'Job3']\n",
      "\n",
      "\n",
      "\t\t\t\t\t ----------end-of-report--------------\n",
      "\n",
      "\n",
      "\t\t\t\t\t Current Clock Time:  40\n",
      "\t\t\t\t\t Jobs Completed\n",
      "Job_id\tArrival Time\tExecution_time\tStart_time\tFinish_time\tRemaining_time\tCompleted\n",
      "Job2     0              4                5               9              0                yes       \n",
      "Job3     0              7                9               31             0                yes       \n",
      "\n",
      "\n",
      "\t\t\t\t\t Job Queue\n",
      "Job_id\tArrival Time\tExecution_time\tStart_time\tFinish_time\tRemaining_time\tCompleted\n",
      "Job5     0              6                19              n/a            1                no        \n",
      "Job1     0              18               0               n/a            8                no        \n",
      "Job6     18             20               31              n/a            15               no        \n",
      "\n",
      "\n",
      "\t\t\t\t\t Current Job\n",
      "Job_id\tArrival Time\tExecution_time\tStart_time\tFinish_time\tRemaining_time\tCompleted\n",
      "Job4     0              9                14              n/a            0                no        \n",
      "\n",
      "\n",
      "Order:  ['Job1', 'Job2', 'Job3', 'Job4', 'Job5', 'Job1', 'Job3', 'Job6', 'Job4']\n",
      "\n",
      "\n",
      "\t\t\t\t\t ----------end-of-report--------------\n",
      "\n",
      "\n",
      "\t\t\t\t\t Current Clock Time:  50\n",
      "\t\t\t\t\t Jobs Completed\n",
      "Job_id\tArrival Time\tExecution_time\tStart_time\tFinish_time\tRemaining_time\tCompleted\n",
      "Job2     0              4                5               9              0                yes       \n",
      "Job3     0              7                9               31             0                yes       \n",
      "Job4     0              9                14              40             0                yes       \n",
      "Job5     0              6                19              41             0                yes       \n",
      "\n",
      "\n",
      "\t\t\t\t\t Job Queue\n",
      "Job_id\tArrival Time\tExecution_time\tStart_time\tFinish_time\tRemaining_time\tCompleted\n",
      "Job1     0              18               0               n/a            3                no        \n",
      "\n",
      "\n",
      "\t\t\t\t\t Current Job\n",
      "Job_id\tArrival Time\tExecution_time\tStart_time\tFinish_time\tRemaining_time\tCompleted\n",
      "Job6     18             20               31              n/a            11               no        \n",
      "\n",
      "\n",
      "Order:  ['Job1', 'Job2', 'Job3', 'Job4', 'Job5', 'Job1', 'Job3', 'Job6', 'Job4', 'Job5', 'Job1', 'Job6']\n",
      "\n",
      "\n",
      "\t\t\t\t\t ----------end-of-report--------------\n",
      "\n",
      "\n",
      "\t\t\t\t\t Current Clock Time:  60\n",
      "\t\t\t\t\t Jobs Completed\n",
      "Job_id\tArrival Time\tExecution_time\tStart_time\tFinish_time\tRemaining_time\tCompleted\n",
      "Job2     0              4                5               9              0                yes       \n",
      "Job3     0              7                9               31             0                yes       \n",
      "Job4     0              9                14              40             0                yes       \n",
      "Job5     0              6                19              41             0                yes       \n",
      "Job1     0              18               0               54             0                yes       \n",
      "\n",
      "\n",
      "\t\t\t\t\t Job Queue\n",
      "Job_id\tArrival Time\tExecution_time\tStart_time\tFinish_time\tRemaining_time\tCompleted\n",
      "\n",
      "\n",
      "\t\t\t\t\t Current Job\n",
      "Job_id\tArrival Time\tExecution_time\tStart_time\tFinish_time\tRemaining_time\tCompleted\n",
      "Job6     18             20               31              n/a            4                no        \n",
      "\n",
      "\n",
      "Order:  ['Job1', 'Job2', 'Job3', 'Job4', 'Job5', 'Job1', 'Job3', 'Job6', 'Job4', 'Job5', 'Job1', 'Job6', 'Job1', 'Job6', 'Job6']\n",
      "\n",
      "\n",
      "\t\t\t\t\t ----------end-of-report--------------\n",
      "\n",
      "\n",
      "Total time taken:  64\n"
     ]
    }
   ],
   "source": [
    "job_queue = queue.copy()\n",
    "job_queue_extra = more_work.copy()\n",
    "\n",
    "time_j = job_queue_extra[0].get('Arrival Time') #save the time when the first extra job will arrive\n",
    "\n",
    "\n",
    "done_jobs = [] #save the comepleted jobs here\n",
    "time = 0; #keeping the time\n",
    "order = [] #save the order in which the jobs get cpu time here\n",
    "\n",
    "while(len(job_queue)!=0): #while the job queue is not empty\n",
    "    \n",
    "    cpu_time_remaining = d #reseting this every loop\n",
    "    current = job_queue.pop(0) #pop the front of the queue\n",
    "    \n",
    "    order.append(current.get('id')) #append current's job_id in \"order\" so we know in what order the jobs got cpu time\n",
    "    \n",
    "    if (current['Strt_Time'] == 'n/a'): #set the starting time of the job\n",
    "            current['Strt_Time']=time\n",
    "    \n",
    "    \n",
    "    while(cpu_time_remaining!=0): #give the job the cpu\n",
    "        \n",
    "        time += 1\n",
    "        cpu_time_remaining -= 1\n",
    "        \n",
    "        \n",
    "        \n",
    "        #we check if a extra job has arrived\n",
    "        if(time == time_j): \n",
    "            \n",
    "            #what if more than one extra job have the same arriving time? So..\n",
    "            new = [i for i in job_queue_extra if i.get('Arrival Time') != time_j] #get all other jobs\n",
    "            new = sorted(new, key=itemgetter('Arrival Time')) #sort them in ascending order of their arrival time\n",
    "            \n",
    "            now = [i for i in job_queue_extra if i.get('Arrival Time')==time_j] #get all jobs that need to be queued r8 now\n",
    "            \n",
    "            #append all the arrived jobs in the job queue as asked in the assignment\n",
    "            for i in now:\n",
    "                job_queue.append(i)\n",
    "                \n",
    "            job_queue_extra = new #update the extra jobs queue\n",
    "            \n",
    "            #if there are more extra jobs , get the next arrival time. Recall that these extra jobs are sorted in asc order\n",
    "            if len(job_queue_extra) != 0:\n",
    "                time_j = job_queue_extra[0].get('Arrival Time')\n",
    "                \n",
    "            \n",
    "        \n",
    "        \n",
    "        #the job executes and its remaining execution time decreases\n",
    "        current['Execution left'] = current.get('Execution left') - 1\n",
    "        \n",
    "        #at the end of the time slot if a job still needs more exection time, append it back into the job queue \n",
    "        if (cpu_time_remaining == 0) and current['Execution left'] !=0:\n",
    "            job_queue.append(current)\n",
    "            \n",
    "        \n",
    "        \n",
    "        if (time%display_time == 0): #display at every given 'display interval'\n",
    "            display(time,done_jobs,job_queue,current,order)\n",
    "\n",
    "        \n",
    "        #if the job finished execution , update its status and append it to the done_jobs queue\n",
    "        if current['Execution left'] == 0:\n",
    "            current['Completed'] = 'yes'\n",
    "            current['Fin_Time'] = time\n",
    "            done_jobs.append(current)\n",
    "            break\n",
    "    \n",
    "    \n",
    "    \n",
    "print(\"Total time taken: \", time)\n"
   ]
  },
  {
   "cell_type": "code",
   "execution_count": 56,
   "metadata": {},
   "outputs": [
    {
     "name": "stdout",
     "output_type": "stream",
     "text": [
      "\t\t\t\t\t Jobs Completed\n",
      "Job_id\tArrival Time\tExecution_time\tStart_time\tFinish_time\tRemaining_time\tCompleted\n",
      "Job2     0              4                5               9              0                yes       \n",
      "Job3     0              7                9               31             0                yes       \n",
      "Job4     0              9                14              40             0                yes       \n",
      "Job5     0              6                19              41             0                yes       \n",
      "Job1     0              18               0               54             0                yes       \n",
      "Job6     18             20               31              64             0                yes       \n",
      "\n",
      "Order:  ['1', '2', '3', '4', '5', '1', '3', '6', '4', '5', '1', '6', '1', '6', '6']\n"
     ]
    }
   ],
   "source": [
    "\n",
    "nprint(done_jobs.copy(), \"Jobs Completed\")\n",
    "print(\"\\nOrder: \",[i[3] for i in order])"
   ]
  },
  {
   "cell_type": "code",
   "execution_count": 57,
   "metadata": {
    "collapsed": true
   },
   "outputs": [],
   "source": []
  }
 ],
 "metadata": {
  "kernelspec": {
   "display_name": "Python 3",
   "language": "python",
   "name": "python3"
  },
  "language_info": {
   "codemirror_mode": {
    "name": "ipython",
    "version": 3
   },
   "file_extension": ".py",
   "mimetype": "text/x-python",
   "name": "python",
   "nbconvert_exporter": "python",
   "pygments_lexer": "ipython3",
   "version": "3.6.3"
  }
 },
 "nbformat": 4,
 "nbformat_minor": 2
}
